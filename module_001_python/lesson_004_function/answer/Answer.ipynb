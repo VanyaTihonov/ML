{
 "cells": [
  {
   "cell_type": "markdown",
   "metadata": {},
   "source": [
    "# Задача 1\n",
    "Проектирование функций для построения обучающих моделей по данным. В данной задача вам нужно разработать прототипы функций(объявление функций без реализаций) для задачи анализа данных из машинного обучения, должны быть учтены следующие шаги:\n",
    "* Загрузка данных из внешних источников\n",
    "* Обработка не заданных значений - пропусков\n",
    "* Удаление не информативных признаков и объектов\n",
    "* Получение модели для обучения\n",
    "* Оценка качества модели\n",
    "* Сохранение модели в файл"
   ]
  },
  {
   "cell_type": "code",
   "execution_count": 9,
   "metadata": {},
   "outputs": [],
   "source": [
    "def load_dataframe(path, source=\"file\", document_format=\"csv\", preprocess_func=None):\n",
    "    \"\"\"\n",
    "    Функция загружает данные из внешнего источника\n",
    "    Параметры:\n",
    "        path(str) - путь до документа во внешнем источнике\n",
    "        source(str) - тип внешнего источника: file, http, https, ftp, sftp\n",
    "        document_format(str) - тип документа во внешнем источнике: csv, json, xml, xlsx\n",
    "        preprocess_func(function) - функция которая вызывается над каждой записью позволяя её обработать\n",
    "    Результат:\n",
    "        dataframe с данными\n",
    "    \"\"\"\n",
    "    pass"
   ]
  },
  {
   "cell_type": "code",
   "execution_count": 23,
   "metadata": {},
   "outputs": [],
   "source": [
    "def prepare_nones(dataframe, *columns, mode='remove'):\n",
    "    \"\"\"\n",
    "    Функция для обработки не заданных значений\n",
    "    Параметры:\n",
    "        dataframe(dataframe) - исходный dataframe\n",
    "        mode(str) - действие над пропусками: remove, mean, random\n",
    "        columns(list of str) - колонки над которыми применится фунция, если не передавать то над всем dataframe\n",
    "    \"\"\"\n",
    "    pass"
   ]
  },
  {
   "cell_type": "code",
   "execution_count": 11,
   "metadata": {},
   "outputs": [],
   "source": [
    "def clear_dataframe(dataframe):\n",
    "    \"\"\"\n",
    "    Функция для удаления не информативных признаков\n",
    "    Параметры:\n",
    "        dataframe(dataframe) - исходный dataframe\n",
    "    \"\"\"\n",
    "    pass"
   ]
  },
  {
   "cell_type": "code",
   "execution_count": 12,
   "metadata": {},
   "outputs": [],
   "source": [
    "def construct_model(dataframe, model_name='xgboost', **params):\n",
    "    \"\"\"\n",
    "    Функция для построения модели для обучения\n",
    "    Параметры:\n",
    "        dataframe(dataframe) - исходный dataframe\n",
    "        model_name(str) - название модели: xgboost, random_forest, sequential\n",
    "        params(dictionary) - параметры модели\n",
    "    Результат:\n",
    "        model над данными\n",
    "    \"\"\"\n",
    "    pass"
   ]
  },
  {
   "cell_type": "code",
   "execution_count": 25,
   "metadata": {},
   "outputs": [],
   "source": [
    "def model_score(model):\n",
    "    \"\"\"\n",
    "    Функция для получения качества модели\n",
    "    Параметры:\n",
    "        model - полученная модель обчения\n",
    "    Результат:\n",
    "        float - [0,1]\n",
    "    \"\"\"\n",
    "    return 1.0"
   ]
  },
  {
   "cell_type": "code",
   "execution_count": 14,
   "metadata": {},
   "outputs": [],
   "source": [
    "def save_model(file_name, model):\n",
    "    \"\"\"\n",
    "    Функция сохраняет модель в файл\n",
    "    Параметры:\n",
    "        file_name(str) - путь до файла\n",
    "        model - полученная модель обчения\n",
    "    \"\"\"\n",
    "    pass"
   ]
  },
  {
   "cell_type": "code",
   "execution_count": 26,
   "metadata": {},
   "outputs": [],
   "source": [
    "dataframe = load_dataframe(\n",
    "    \"https://www.example.com/data.csv\", \n",
    "    source=\"https\", \n",
    "    preprocess_func=lambda record: record[\"target\"]/100.0)\n",
    "\n",
    "prepare_nones(dataframe, 'column1', 'column5')\n",
    "clear_dataframe(dataframe)\n",
    "\n",
    "xgboost_model = construct_model(dataframe)\n",
    "if (model_score(xgboost_model) > 0.5):\n",
    "    save_model('my_model.data', xgboost_model)"
   ]
  },
  {
   "cell_type": "markdown",
   "metadata": {},
   "source": [
    "# Задача 2\n",
    "Задача повышенной сложности. Реализовать вывод треугольника паскаля, через функцию. Пример треугольника:\n",
    "![pascal triangle](pascal.png)\n",
    "Глубина 10 по умолчанию"
   ]
  },
  {
   "cell_type": "code",
   "execution_count": 34,
   "metadata": {},
   "outputs": [],
   "source": [
    "def pascal(previous_line, level=0):\n",
    "    if (level == 10):\n",
    "        return\n",
    "    \n",
    "    new_line = [1]\n",
    "    for index, number in enumerate(previous_line):\n",
    "        if (index == 0):\n",
    "            continue\n",
    "        new_line.append(number + previous_line[index-1])\n",
    "    new_line.append(1)\n",
    "    print(new_line)\n",
    "    pascal(new_line, level+1)"
   ]
  },
  {
   "cell_type": "code",
   "execution_count": 35,
   "metadata": {},
   "outputs": [
    {
     "name": "stdout",
     "output_type": "stream",
     "text": [
      "[1, 1]\n",
      "[1, 2, 1]\n",
      "[1, 3, 3, 1]\n",
      "[1, 4, 6, 4, 1]\n",
      "[1, 5, 10, 10, 5, 1]\n",
      "[1, 6, 15, 20, 15, 6, 1]\n",
      "[1, 7, 21, 35, 35, 21, 7, 1]\n",
      "[1, 8, 28, 56, 70, 56, 28, 8, 1]\n",
      "[1, 9, 36, 84, 126, 126, 84, 36, 9, 1]\n",
      "[1, 10, 45, 120, 210, 252, 210, 120, 45, 10, 1]\n"
     ]
    }
   ],
   "source": [
    "pascal([1])"
   ]
  },
  {
   "cell_type": "code",
   "execution_count": null,
   "metadata": {},
   "outputs": [],
   "source": []
  }
 ],
 "metadata": {
  "kernelspec": {
   "display_name": "Python 3",
   "language": "python",
   "name": "python3"
  },
  "language_info": {
   "codemirror_mode": {
    "name": "ipython",
    "version": 3
   },
   "file_extension": ".py",
   "mimetype": "text/x-python",
   "name": "python",
   "nbconvert_exporter": "python",
   "pygments_lexer": "ipython3",
   "version": "3.7.3"
  }
 },
 "nbformat": 4,
 "nbformat_minor": 2
}
