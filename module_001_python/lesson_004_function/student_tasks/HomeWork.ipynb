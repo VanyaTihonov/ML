{
 "cells": [
  {
   "cell_type": "markdown",
   "metadata": {},
   "source": [
    "# Задача 1\n",
    "Проектирование функций для построения обучающих моделей по данным. В данной задача вам нужно разработать прототипы функций(объявление функций без реализаций) для задачи анализа данных из машинного обучения, должны быть учтены следующие шаги:\n",
    "* Загрузка данных из внешних источников\n",
    "* Обработка не заданных значений - пропусков\n",
    "* Удаление не информативных признаков и объектов\n",
    "* Получение модели для обучения\n",
    "* Оценка качества модели\n",
    "* Сохранение модели в файл"
   ]
  },
  {
   "cell_type": "code",
   "execution_count": 1,
   "metadata": {},
   "outputs": [],
   "source": [
    "def loading_dataframe(path,source=\"file\",type='csv'):\n",
    "    \"\"\"\n",
    "    Функция загружает файл из внешних источников.\n",
    "    Параметры:\n",
    "    path — путь, из которого загружается документ,\n",
    "    source — тип документа (file (по умолчанию), http, https, ftp),\n",
    "    type — расширение документа (txt,csv,xls).\n",
    "    Результат:\n",
    "    load_data — файл.\n",
    "    \"\"\"\n",
    "    pass\n",
    "\n",
    "def preparing_nones(dataframe,*columns,mode):\n",
    "    \"\"\"\n",
    "    Функция обрабатывает незаданные значения (пропуски).\n",
    "    Параметры:\n",
    "    dataframe — файл,\n",
    "    columns — то, что надо обработать,\n",
    "    mode — то, что нужно сделать с пропусками.\n",
    "    Результат:\n",
    "    preparing_nones — файл с обработанными пропусками.\n",
    "    \"\"\"\n",
    "    pass\n",
    "def moving_dataframe(dataframe):\n",
    "    \"\"\"Функция для удаления неинформативных признаков.\n",
    "    Параметр:\n",
    "    dataframe — объект, который нужно удалить.\n",
    "    Результат:\n",
    "    moving_nones — удаление файла\"\"\"\n",
    "    pass\n",
    "def constructing_model(dataframe, model_name, **params):\n",
    "    \"\"\"\n",
    "    Функция для построения модели для обучения.\n",
    "    Параметры:\n",
    "    dataframe(dataframe) - исходный dataframe,\n",
    "    model_name(str) - название модели: xgboost, random_forest, sequential,\n",
    "    params(dictionary) - параметры модели.\n",
    "    Результат:\n",
    "    model над данными.\n",
    "    \"\"\"\n",
    "    pass\n",
    "def scoring_model(model):\n",
    "    \"\"\"\n",
    "    Функция для оценки качества модели.\n",
    "    Параметр:\n",
    "    model.\n",
    "    Результат:\n",
    "    Оценка модели\n",
    "    \"\"\"\n",
    "    pass\n",
    "def saving_model(model,file):\n",
    "    \"\"\"\n",
    "    Функция для сохранения модели в файл.\n",
    "    Параметры:\n",
    "    model — название модели,\n",
    "    file — название файла\n",
    "    \"\"\"\n",
    "    pass"
   ]
  },
  {
   "cell_type": "markdown",
   "metadata": {},
   "source": [
    "# Задача 2\n",
    "Задача повышенной сложности. Реализовать вывод треугольника паскаля, через функцию. Пример треугольника:\n",
    "![pascal triangle](pascal.png)\n",
    "Глубина 10 по умолчанию"
   ]
  },
  {
   "cell_type": "code",
   "execution_count": 5,
   "metadata": {},
   "outputs": [
    {
     "name": "stdout",
     "output_type": "stream",
     "text": [
      "[1]\n",
      "[1, 1]\n",
      "[1, 2, 1]\n",
      "[1, 3, 3, 1]\n",
      "[1, 4, 6, 4, 1]\n",
      "[1, 5, 10, 10, 5, 1]\n",
      "[1, 6, 15, 20, 15, 6, 1]\n",
      "[1, 7, 21, 35, 35, 21, 7, 1]\n",
      "[1, 8, 28, 56, 70, 56, 28, 8, 1]\n",
      "[1, 9, 36, 84, 126, 126, 84, 36, 9, 1]\n"
     ]
    }
   ],
   "source": [
    "def print_pascal(primary,deep=10):\n",
    "    for i in range(1,deep+1):\n",
    "        print(pascal(primary,i))\n",
    "def pascal(primary,deep):\n",
    "    if deep == 1:\n",
    "        new_list = [primary]\n",
    "    elif deep == 2:\n",
    "        new_list = []\n",
    "        for i in range (deep):\n",
    "            new_list.extend(pascal(primary,1))\n",
    "    else:\n",
    "        new_list = []\n",
    "        for i in range(0,deep):\n",
    "            if i == 0 or i == deep-1:\n",
    "                new_list.append(primary)\n",
    "            else:\n",
    "                new_list.append(pascal(primary,deep-1)[i-1]+pascal(primary,deep-1)[i])\n",
    "    return new_list\n",
    "print_pascal(1)"
   ]
  },
  {
   "cell_type": "code",
   "execution_count": null,
   "metadata": {},
   "outputs": [],
   "source": []
  },
  {
   "cell_type": "code",
   "execution_count": null,
   "metadata": {},
   "outputs": [],
   "source": []
  },
  {
   "cell_type": "code",
   "execution_count": null,
   "metadata": {},
   "outputs": [],
   "source": []
  }
 ],
 "metadata": {
  "kernelspec": {
   "display_name": "Python 3",
   "language": "python",
   "name": "python3"
  },
  "language_info": {
   "codemirror_mode": {
    "name": "ipython",
    "version": 3
   },
   "file_extension": ".py",
   "mimetype": "text/x-python",
   "name": "python",
   "nbconvert_exporter": "python",
   "pygments_lexer": "ipython3",
   "version": "3.7.3"
  }
 },
 "nbformat": 4,
 "nbformat_minor": 2
}
